{
 "cells": [
  {
   "cell_type": "code",
   "execution_count": 88,
   "metadata": {},
   "outputs": [],
   "source": [
    "import numpy as np\n",
    "import pandas as pd\n",
    "from sklearn.preprocessing import StandardScaler\n",
    "from sklearn.linear_model import LogisticRegression\n",
    "from sklearn.metrics import precision_recall_fscore_support\n",
    "from sklearn.model_selection import train_test_split, KFold, GridSearchCV\n",
    "from sklearn.svm import SVC\n",
    "from imblearn.over_sampling import SMOTE\n",
    "from sklearn.tree import DecisionTreeClassifier\n",
    "from sklearn.ensemble import RandomForestClassifier\n",
    "from xgboost import XGBClassifier"
   ]
  },
  {
   "cell_type": "code",
   "execution_count": 2,
   "metadata": {},
   "outputs": [
    {
     "data": {
      "text/html": [
       "<div>\n",
       "<style scoped>\n",
       "    .dataframe tbody tr th:only-of-type {\n",
       "        vertical-align: middle;\n",
       "    }\n",
       "\n",
       "    .dataframe tbody tr th {\n",
       "        vertical-align: top;\n",
       "    }\n",
       "\n",
       "    .dataframe thead th {\n",
       "        text-align: right;\n",
       "    }\n",
       "</style>\n",
       "<table border=\"1\" class=\"dataframe\">\n",
       "  <thead>\n",
       "    <tr style=\"text-align: right;\">\n",
       "      <th></th>\n",
       "      <th>Age</th>\n",
       "      <th>Attrition</th>\n",
       "      <th>BusinessTravel</th>\n",
       "      <th>DailyRate</th>\n",
       "      <th>Department</th>\n",
       "      <th>DistanceFromHome</th>\n",
       "      <th>Education</th>\n",
       "      <th>EducationField</th>\n",
       "      <th>EmployeeCount</th>\n",
       "      <th>EmployeeNumber</th>\n",
       "      <th>...</th>\n",
       "      <th>RelationshipSatisfaction</th>\n",
       "      <th>StandardHours</th>\n",
       "      <th>StockOptionLevel</th>\n",
       "      <th>TotalWorkingYears</th>\n",
       "      <th>TrainingTimesLastYear</th>\n",
       "      <th>WorkLifeBalance</th>\n",
       "      <th>YearsAtCompany</th>\n",
       "      <th>YearsInCurrentRole</th>\n",
       "      <th>YearsSinceLastPromotion</th>\n",
       "      <th>YearsWithCurrManager</th>\n",
       "    </tr>\n",
       "  </thead>\n",
       "  <tbody>\n",
       "    <tr>\n",
       "      <th>0</th>\n",
       "      <td>41</td>\n",
       "      <td>Yes</td>\n",
       "      <td>Travel_Rarely</td>\n",
       "      <td>1102</td>\n",
       "      <td>Sales</td>\n",
       "      <td>1</td>\n",
       "      <td>2</td>\n",
       "      <td>Life Sciences</td>\n",
       "      <td>1</td>\n",
       "      <td>1</td>\n",
       "      <td>...</td>\n",
       "      <td>1</td>\n",
       "      <td>80</td>\n",
       "      <td>0</td>\n",
       "      <td>8</td>\n",
       "      <td>0</td>\n",
       "      <td>1</td>\n",
       "      <td>6</td>\n",
       "      <td>4</td>\n",
       "      <td>0</td>\n",
       "      <td>5</td>\n",
       "    </tr>\n",
       "    <tr>\n",
       "      <th>1</th>\n",
       "      <td>49</td>\n",
       "      <td>No</td>\n",
       "      <td>Travel_Frequently</td>\n",
       "      <td>279</td>\n",
       "      <td>Research &amp; Development</td>\n",
       "      <td>8</td>\n",
       "      <td>1</td>\n",
       "      <td>Life Sciences</td>\n",
       "      <td>1</td>\n",
       "      <td>2</td>\n",
       "      <td>...</td>\n",
       "      <td>4</td>\n",
       "      <td>80</td>\n",
       "      <td>1</td>\n",
       "      <td>10</td>\n",
       "      <td>3</td>\n",
       "      <td>3</td>\n",
       "      <td>10</td>\n",
       "      <td>7</td>\n",
       "      <td>1</td>\n",
       "      <td>7</td>\n",
       "    </tr>\n",
       "    <tr>\n",
       "      <th>2</th>\n",
       "      <td>37</td>\n",
       "      <td>Yes</td>\n",
       "      <td>Travel_Rarely</td>\n",
       "      <td>1373</td>\n",
       "      <td>Research &amp; Development</td>\n",
       "      <td>2</td>\n",
       "      <td>2</td>\n",
       "      <td>Other</td>\n",
       "      <td>1</td>\n",
       "      <td>4</td>\n",
       "      <td>...</td>\n",
       "      <td>2</td>\n",
       "      <td>80</td>\n",
       "      <td>0</td>\n",
       "      <td>7</td>\n",
       "      <td>3</td>\n",
       "      <td>3</td>\n",
       "      <td>0</td>\n",
       "      <td>0</td>\n",
       "      <td>0</td>\n",
       "      <td>0</td>\n",
       "    </tr>\n",
       "    <tr>\n",
       "      <th>3</th>\n",
       "      <td>33</td>\n",
       "      <td>No</td>\n",
       "      <td>Travel_Frequently</td>\n",
       "      <td>1392</td>\n",
       "      <td>Research &amp; Development</td>\n",
       "      <td>3</td>\n",
       "      <td>4</td>\n",
       "      <td>Life Sciences</td>\n",
       "      <td>1</td>\n",
       "      <td>5</td>\n",
       "      <td>...</td>\n",
       "      <td>3</td>\n",
       "      <td>80</td>\n",
       "      <td>0</td>\n",
       "      <td>8</td>\n",
       "      <td>3</td>\n",
       "      <td>3</td>\n",
       "      <td>8</td>\n",
       "      <td>7</td>\n",
       "      <td>3</td>\n",
       "      <td>0</td>\n",
       "    </tr>\n",
       "    <tr>\n",
       "      <th>4</th>\n",
       "      <td>27</td>\n",
       "      <td>No</td>\n",
       "      <td>Travel_Rarely</td>\n",
       "      <td>591</td>\n",
       "      <td>Research &amp; Development</td>\n",
       "      <td>2</td>\n",
       "      <td>1</td>\n",
       "      <td>Medical</td>\n",
       "      <td>1</td>\n",
       "      <td>7</td>\n",
       "      <td>...</td>\n",
       "      <td>4</td>\n",
       "      <td>80</td>\n",
       "      <td>1</td>\n",
       "      <td>6</td>\n",
       "      <td>3</td>\n",
       "      <td>3</td>\n",
       "      <td>2</td>\n",
       "      <td>2</td>\n",
       "      <td>2</td>\n",
       "      <td>2</td>\n",
       "    </tr>\n",
       "  </tbody>\n",
       "</table>\n",
       "<p>5 rows × 35 columns</p>\n",
       "</div>"
      ],
      "text/plain": [
       "   Age Attrition     BusinessTravel  DailyRate              Department  \\\n",
       "0   41       Yes      Travel_Rarely       1102                   Sales   \n",
       "1   49        No  Travel_Frequently        279  Research & Development   \n",
       "2   37       Yes      Travel_Rarely       1373  Research & Development   \n",
       "3   33        No  Travel_Frequently       1392  Research & Development   \n",
       "4   27        No      Travel_Rarely        591  Research & Development   \n",
       "\n",
       "   DistanceFromHome  Education EducationField  EmployeeCount  EmployeeNumber  \\\n",
       "0                 1          2  Life Sciences              1               1   \n",
       "1                 8          1  Life Sciences              1               2   \n",
       "2                 2          2          Other              1               4   \n",
       "3                 3          4  Life Sciences              1               5   \n",
       "4                 2          1        Medical              1               7   \n",
       "\n",
       "   ...  RelationshipSatisfaction StandardHours  StockOptionLevel  \\\n",
       "0  ...                         1            80                 0   \n",
       "1  ...                         4            80                 1   \n",
       "2  ...                         2            80                 0   \n",
       "3  ...                         3            80                 0   \n",
       "4  ...                         4            80                 1   \n",
       "\n",
       "   TotalWorkingYears  TrainingTimesLastYear WorkLifeBalance  YearsAtCompany  \\\n",
       "0                  8                      0               1               6   \n",
       "1                 10                      3               3              10   \n",
       "2                  7                      3               3               0   \n",
       "3                  8                      3               3               8   \n",
       "4                  6                      3               3               2   \n",
       "\n",
       "  YearsInCurrentRole  YearsSinceLastPromotion  YearsWithCurrManager  \n",
       "0                  4                        0                     5  \n",
       "1                  7                        1                     7  \n",
       "2                  0                        0                     0  \n",
       "3                  7                        3                     0  \n",
       "4                  2                        2                     2  \n",
       "\n",
       "[5 rows x 35 columns]"
      ]
     },
     "execution_count": 2,
     "metadata": {},
     "output_type": "execute_result"
    }
   ],
   "source": [
    "df = pd.read_csv(\"WA_Fn-UseC_-HR-Employee-Attrition.csv\")\n",
    "df.head()"
   ]
  },
  {
   "cell_type": "code",
   "execution_count": 4,
   "metadata": {},
   "outputs": [
    {
     "data": {
      "text/html": [
       "<div>\n",
       "<style scoped>\n",
       "    .dataframe tbody tr th:only-of-type {\n",
       "        vertical-align: middle;\n",
       "    }\n",
       "\n",
       "    .dataframe tbody tr th {\n",
       "        vertical-align: top;\n",
       "    }\n",
       "\n",
       "    .dataframe thead th {\n",
       "        text-align: right;\n",
       "    }\n",
       "</style>\n",
       "<table border=\"1\" class=\"dataframe\">\n",
       "  <thead>\n",
       "    <tr style=\"text-align: right;\">\n",
       "      <th></th>\n",
       "      <th>Age</th>\n",
       "      <th>BusinessTravel</th>\n",
       "      <th>DailyRate</th>\n",
       "      <th>Department</th>\n",
       "      <th>DistanceFromHome</th>\n",
       "      <th>Education</th>\n",
       "      <th>EducationField</th>\n",
       "      <th>EmployeeCount</th>\n",
       "      <th>EmployeeNumber</th>\n",
       "      <th>EnvironmentSatisfaction</th>\n",
       "      <th>...</th>\n",
       "      <th>PercentSalaryHike</th>\n",
       "      <th>PerformanceRating</th>\n",
       "      <th>RelationshipSatisfaction</th>\n",
       "      <th>StandardHours</th>\n",
       "      <th>StockOptionLevel</th>\n",
       "      <th>TrainingTimesLastYear</th>\n",
       "      <th>WorkLifeBalance</th>\n",
       "      <th>YearsAtCompany</th>\n",
       "      <th>YearsSinceLastPromotion</th>\n",
       "      <th>attrition</th>\n",
       "    </tr>\n",
       "  </thead>\n",
       "  <tbody>\n",
       "    <tr>\n",
       "      <th>0</th>\n",
       "      <td>41</td>\n",
       "      <td>Travel_Rarely</td>\n",
       "      <td>1102</td>\n",
       "      <td>Sales</td>\n",
       "      <td>1</td>\n",
       "      <td>2</td>\n",
       "      <td>Life Sciences</td>\n",
       "      <td>1</td>\n",
       "      <td>1</td>\n",
       "      <td>2</td>\n",
       "      <td>...</td>\n",
       "      <td>11</td>\n",
       "      <td>3</td>\n",
       "      <td>1</td>\n",
       "      <td>80</td>\n",
       "      <td>0</td>\n",
       "      <td>0</td>\n",
       "      <td>1</td>\n",
       "      <td>6</td>\n",
       "      <td>0</td>\n",
       "      <td>Yes</td>\n",
       "    </tr>\n",
       "    <tr>\n",
       "      <th>1</th>\n",
       "      <td>49</td>\n",
       "      <td>Travel_Frequently</td>\n",
       "      <td>279</td>\n",
       "      <td>Research &amp; Development</td>\n",
       "      <td>8</td>\n",
       "      <td>1</td>\n",
       "      <td>Life Sciences</td>\n",
       "      <td>1</td>\n",
       "      <td>2</td>\n",
       "      <td>3</td>\n",
       "      <td>...</td>\n",
       "      <td>23</td>\n",
       "      <td>4</td>\n",
       "      <td>4</td>\n",
       "      <td>80</td>\n",
       "      <td>1</td>\n",
       "      <td>3</td>\n",
       "      <td>3</td>\n",
       "      <td>10</td>\n",
       "      <td>1</td>\n",
       "      <td>No</td>\n",
       "    </tr>\n",
       "    <tr>\n",
       "      <th>2</th>\n",
       "      <td>37</td>\n",
       "      <td>Travel_Rarely</td>\n",
       "      <td>1373</td>\n",
       "      <td>Research &amp; Development</td>\n",
       "      <td>2</td>\n",
       "      <td>2</td>\n",
       "      <td>Other</td>\n",
       "      <td>1</td>\n",
       "      <td>4</td>\n",
       "      <td>4</td>\n",
       "      <td>...</td>\n",
       "      <td>15</td>\n",
       "      <td>3</td>\n",
       "      <td>2</td>\n",
       "      <td>80</td>\n",
       "      <td>0</td>\n",
       "      <td>3</td>\n",
       "      <td>3</td>\n",
       "      <td>0</td>\n",
       "      <td>0</td>\n",
       "      <td>Yes</td>\n",
       "    </tr>\n",
       "    <tr>\n",
       "      <th>3</th>\n",
       "      <td>33</td>\n",
       "      <td>Travel_Frequently</td>\n",
       "      <td>1392</td>\n",
       "      <td>Research &amp; Development</td>\n",
       "      <td>3</td>\n",
       "      <td>4</td>\n",
       "      <td>Life Sciences</td>\n",
       "      <td>1</td>\n",
       "      <td>5</td>\n",
       "      <td>4</td>\n",
       "      <td>...</td>\n",
       "      <td>11</td>\n",
       "      <td>3</td>\n",
       "      <td>3</td>\n",
       "      <td>80</td>\n",
       "      <td>0</td>\n",
       "      <td>3</td>\n",
       "      <td>3</td>\n",
       "      <td>8</td>\n",
       "      <td>3</td>\n",
       "      <td>No</td>\n",
       "    </tr>\n",
       "    <tr>\n",
       "      <th>4</th>\n",
       "      <td>27</td>\n",
       "      <td>Travel_Rarely</td>\n",
       "      <td>591</td>\n",
       "      <td>Research &amp; Development</td>\n",
       "      <td>2</td>\n",
       "      <td>1</td>\n",
       "      <td>Medical</td>\n",
       "      <td>1</td>\n",
       "      <td>7</td>\n",
       "      <td>1</td>\n",
       "      <td>...</td>\n",
       "      <td>12</td>\n",
       "      <td>3</td>\n",
       "      <td>4</td>\n",
       "      <td>80</td>\n",
       "      <td>1</td>\n",
       "      <td>3</td>\n",
       "      <td>3</td>\n",
       "      <td>2</td>\n",
       "      <td>2</td>\n",
       "      <td>No</td>\n",
       "    </tr>\n",
       "  </tbody>\n",
       "</table>\n",
       "<p>5 rows × 31 columns</p>\n",
       "</div>"
      ],
      "text/plain": [
       "   Age     BusinessTravel  DailyRate              Department  \\\n",
       "0   41      Travel_Rarely       1102                   Sales   \n",
       "1   49  Travel_Frequently        279  Research & Development   \n",
       "2   37      Travel_Rarely       1373  Research & Development   \n",
       "3   33  Travel_Frequently       1392  Research & Development   \n",
       "4   27      Travel_Rarely        591  Research & Development   \n",
       "\n",
       "   DistanceFromHome  Education EducationField  EmployeeCount  EmployeeNumber  \\\n",
       "0                 1          2  Life Sciences              1               1   \n",
       "1                 8          1  Life Sciences              1               2   \n",
       "2                 2          2          Other              1               4   \n",
       "3                 3          4  Life Sciences              1               5   \n",
       "4                 2          1        Medical              1               7   \n",
       "\n",
       "   EnvironmentSatisfaction  ... PercentSalaryHike  PerformanceRating  \\\n",
       "0                        2  ...                11                  3   \n",
       "1                        3  ...                23                  4   \n",
       "2                        4  ...                15                  3   \n",
       "3                        4  ...                11                  3   \n",
       "4                        1  ...                12                  3   \n",
       "\n",
       "   RelationshipSatisfaction  StandardHours StockOptionLevel  \\\n",
       "0                         1             80                0   \n",
       "1                         4             80                1   \n",
       "2                         2             80                0   \n",
       "3                         3             80                0   \n",
       "4                         4             80                1   \n",
       "\n",
       "   TrainingTimesLastYear WorkLifeBalance  YearsAtCompany  \\\n",
       "0                      0               1               6   \n",
       "1                      3               3              10   \n",
       "2                      3               3               0   \n",
       "3                      3               3               8   \n",
       "4                      3               3               2   \n",
       "\n",
       "   YearsSinceLastPromotion attrition  \n",
       "0                        0       Yes  \n",
       "1                        1        No  \n",
       "2                        0       Yes  \n",
       "3                        3        No  \n",
       "4                        2        No  \n",
       "\n",
       "[5 rows x 31 columns]"
      ]
     },
     "execution_count": 4,
     "metadata": {},
     "output_type": "execute_result"
    }
   ],
   "source": [
    "df[\"attrition\"] = df[\"Attrition\"]\n",
    "\n",
    "\"\"\"\n",
    "removing \"MonthlyIncome\", \"TotalWorkingYears\", \"YearsInCurrentRole\", \"YearsWithCurrentManager\" \n",
    "because their correlation with \"JobLevel\" and \"YearsAtCompany\" >= 0.75 [found this in EDA.ipynb]\n",
    "\"\"\"\n",
    "df.drop(columns = [\"Attrition\", \"MonthlyIncome\", \"TotalWorkingYears\", \"YearsInCurrentRole\", \"YearsWithCurrManager\"], inplace = True)\n",
    "df.head()"
   ]
  },
  {
   "cell_type": "code",
   "execution_count": 5,
   "metadata": {},
   "outputs": [
    {
     "data": {
      "text/plain": [
       "Age                           43\n",
       "BusinessTravel                 3\n",
       "DailyRate                    886\n",
       "Department                     3\n",
       "DistanceFromHome              29\n",
       "Education                      5\n",
       "EducationField                 6\n",
       "EmployeeCount                  1\n",
       "EmployeeNumber              1470\n",
       "EnvironmentSatisfaction        4\n",
       "Gender                         2\n",
       "HourlyRate                    71\n",
       "JobInvolvement                 4\n",
       "JobLevel                       5\n",
       "JobRole                        9\n",
       "JobSatisfaction                4\n",
       "MaritalStatus                  3\n",
       "MonthlyRate                 1427\n",
       "NumCompaniesWorked            10\n",
       "Over18                         1\n",
       "OverTime                       2\n",
       "PercentSalaryHike             15\n",
       "PerformanceRating              2\n",
       "RelationshipSatisfaction       4\n",
       "StandardHours                  1\n",
       "StockOptionLevel               4\n",
       "TrainingTimesLastYear          7\n",
       "WorkLifeBalance                4\n",
       "YearsAtCompany                37\n",
       "YearsSinceLastPromotion       16\n",
       "attrition                      2\n",
       "dtype: int64"
      ]
     },
     "execution_count": 5,
     "metadata": {},
     "output_type": "execute_result"
    }
   ],
   "source": [
    "df.nunique()"
   ]
  },
  {
   "cell_type": "code",
   "execution_count": 6,
   "metadata": {},
   "outputs": [
    {
     "data": {
      "text/html": [
       "<div>\n",
       "<style scoped>\n",
       "    .dataframe tbody tr th:only-of-type {\n",
       "        vertical-align: middle;\n",
       "    }\n",
       "\n",
       "    .dataframe tbody tr th {\n",
       "        vertical-align: top;\n",
       "    }\n",
       "\n",
       "    .dataframe thead th {\n",
       "        text-align: right;\n",
       "    }\n",
       "</style>\n",
       "<table border=\"1\" class=\"dataframe\">\n",
       "  <thead>\n",
       "    <tr style=\"text-align: right;\">\n",
       "      <th></th>\n",
       "      <th>Age</th>\n",
       "      <th>BusinessTravel</th>\n",
       "      <th>DailyRate</th>\n",
       "      <th>Department</th>\n",
       "      <th>DistanceFromHome</th>\n",
       "      <th>Education</th>\n",
       "      <th>EducationField</th>\n",
       "      <th>EmployeeNumber</th>\n",
       "      <th>EnvironmentSatisfaction</th>\n",
       "      <th>Gender</th>\n",
       "      <th>...</th>\n",
       "      <th>OverTime</th>\n",
       "      <th>PercentSalaryHike</th>\n",
       "      <th>PerformanceRating</th>\n",
       "      <th>RelationshipSatisfaction</th>\n",
       "      <th>StockOptionLevel</th>\n",
       "      <th>TrainingTimesLastYear</th>\n",
       "      <th>WorkLifeBalance</th>\n",
       "      <th>YearsAtCompany</th>\n",
       "      <th>YearsSinceLastPromotion</th>\n",
       "      <th>attrition</th>\n",
       "    </tr>\n",
       "  </thead>\n",
       "  <tbody>\n",
       "    <tr>\n",
       "      <th>0</th>\n",
       "      <td>41</td>\n",
       "      <td>Travel_Rarely</td>\n",
       "      <td>1102</td>\n",
       "      <td>Sales</td>\n",
       "      <td>1</td>\n",
       "      <td>2</td>\n",
       "      <td>Life Sciences</td>\n",
       "      <td>1</td>\n",
       "      <td>2</td>\n",
       "      <td>Female</td>\n",
       "      <td>...</td>\n",
       "      <td>Yes</td>\n",
       "      <td>11</td>\n",
       "      <td>3</td>\n",
       "      <td>1</td>\n",
       "      <td>0</td>\n",
       "      <td>0</td>\n",
       "      <td>1</td>\n",
       "      <td>6</td>\n",
       "      <td>0</td>\n",
       "      <td>Yes</td>\n",
       "    </tr>\n",
       "    <tr>\n",
       "      <th>1</th>\n",
       "      <td>49</td>\n",
       "      <td>Travel_Frequently</td>\n",
       "      <td>279</td>\n",
       "      <td>Research &amp; Development</td>\n",
       "      <td>8</td>\n",
       "      <td>1</td>\n",
       "      <td>Life Sciences</td>\n",
       "      <td>2</td>\n",
       "      <td>3</td>\n",
       "      <td>Male</td>\n",
       "      <td>...</td>\n",
       "      <td>No</td>\n",
       "      <td>23</td>\n",
       "      <td>4</td>\n",
       "      <td>4</td>\n",
       "      <td>1</td>\n",
       "      <td>3</td>\n",
       "      <td>3</td>\n",
       "      <td>10</td>\n",
       "      <td>1</td>\n",
       "      <td>No</td>\n",
       "    </tr>\n",
       "    <tr>\n",
       "      <th>2</th>\n",
       "      <td>37</td>\n",
       "      <td>Travel_Rarely</td>\n",
       "      <td>1373</td>\n",
       "      <td>Research &amp; Development</td>\n",
       "      <td>2</td>\n",
       "      <td>2</td>\n",
       "      <td>Other</td>\n",
       "      <td>4</td>\n",
       "      <td>4</td>\n",
       "      <td>Male</td>\n",
       "      <td>...</td>\n",
       "      <td>Yes</td>\n",
       "      <td>15</td>\n",
       "      <td>3</td>\n",
       "      <td>2</td>\n",
       "      <td>0</td>\n",
       "      <td>3</td>\n",
       "      <td>3</td>\n",
       "      <td>0</td>\n",
       "      <td>0</td>\n",
       "      <td>Yes</td>\n",
       "    </tr>\n",
       "    <tr>\n",
       "      <th>3</th>\n",
       "      <td>33</td>\n",
       "      <td>Travel_Frequently</td>\n",
       "      <td>1392</td>\n",
       "      <td>Research &amp; Development</td>\n",
       "      <td>3</td>\n",
       "      <td>4</td>\n",
       "      <td>Life Sciences</td>\n",
       "      <td>5</td>\n",
       "      <td>4</td>\n",
       "      <td>Female</td>\n",
       "      <td>...</td>\n",
       "      <td>Yes</td>\n",
       "      <td>11</td>\n",
       "      <td>3</td>\n",
       "      <td>3</td>\n",
       "      <td>0</td>\n",
       "      <td>3</td>\n",
       "      <td>3</td>\n",
       "      <td>8</td>\n",
       "      <td>3</td>\n",
       "      <td>No</td>\n",
       "    </tr>\n",
       "    <tr>\n",
       "      <th>4</th>\n",
       "      <td>27</td>\n",
       "      <td>Travel_Rarely</td>\n",
       "      <td>591</td>\n",
       "      <td>Research &amp; Development</td>\n",
       "      <td>2</td>\n",
       "      <td>1</td>\n",
       "      <td>Medical</td>\n",
       "      <td>7</td>\n",
       "      <td>1</td>\n",
       "      <td>Male</td>\n",
       "      <td>...</td>\n",
       "      <td>No</td>\n",
       "      <td>12</td>\n",
       "      <td>3</td>\n",
       "      <td>4</td>\n",
       "      <td>1</td>\n",
       "      <td>3</td>\n",
       "      <td>3</td>\n",
       "      <td>2</td>\n",
       "      <td>2</td>\n",
       "      <td>No</td>\n",
       "    </tr>\n",
       "  </tbody>\n",
       "</table>\n",
       "<p>5 rows × 28 columns</p>\n",
       "</div>"
      ],
      "text/plain": [
       "   Age     BusinessTravel  DailyRate              Department  \\\n",
       "0   41      Travel_Rarely       1102                   Sales   \n",
       "1   49  Travel_Frequently        279  Research & Development   \n",
       "2   37      Travel_Rarely       1373  Research & Development   \n",
       "3   33  Travel_Frequently       1392  Research & Development   \n",
       "4   27      Travel_Rarely        591  Research & Development   \n",
       "\n",
       "   DistanceFromHome  Education EducationField  EmployeeNumber  \\\n",
       "0                 1          2  Life Sciences               1   \n",
       "1                 8          1  Life Sciences               2   \n",
       "2                 2          2          Other               4   \n",
       "3                 3          4  Life Sciences               5   \n",
       "4                 2          1        Medical               7   \n",
       "\n",
       "   EnvironmentSatisfaction  Gender  ...  OverTime  PercentSalaryHike  \\\n",
       "0                        2  Female  ...       Yes                 11   \n",
       "1                        3    Male  ...        No                 23   \n",
       "2                        4    Male  ...       Yes                 15   \n",
       "3                        4  Female  ...       Yes                 11   \n",
       "4                        1    Male  ...        No                 12   \n",
       "\n",
       "   PerformanceRating RelationshipSatisfaction  StockOptionLevel  \\\n",
       "0                  3                        1                 0   \n",
       "1                  4                        4                 1   \n",
       "2                  3                        2                 0   \n",
       "3                  3                        3                 0   \n",
       "4                  3                        4                 1   \n",
       "\n",
       "  TrainingTimesLastYear  WorkLifeBalance  YearsAtCompany  \\\n",
       "0                     0                1               6   \n",
       "1                     3                3              10   \n",
       "2                     3                3               0   \n",
       "3                     3                3               8   \n",
       "4                     3                3               2   \n",
       "\n",
       "  YearsSinceLastPromotion  attrition  \n",
       "0                       0        Yes  \n",
       "1                       1         No  \n",
       "2                       0        Yes  \n",
       "3                       3         No  \n",
       "4                       2         No  \n",
       "\n",
       "[5 rows x 28 columns]"
      ]
     },
     "execution_count": 6,
     "metadata": {},
     "output_type": "execute_result"
    }
   ],
   "source": [
    "\"\"\"\n",
    "EmployeeCount, Over18, StandardHours has only one unique value. So this variables can be ignored/removed.\n",
    "\"\"\"\n",
    "df.drop(columns = [\"EmployeeCount\", \"Over18\", \"StandardHours\"], inplace = True)\n",
    "df.head()"
   ]
  },
  {
   "cell_type": "code",
   "execution_count": 8,
   "metadata": {},
   "outputs": [
    {
     "data": {
      "text/html": [
       "<div>\n",
       "<style scoped>\n",
       "    .dataframe tbody tr th:only-of-type {\n",
       "        vertical-align: middle;\n",
       "    }\n",
       "\n",
       "    .dataframe tbody tr th {\n",
       "        vertical-align: top;\n",
       "    }\n",
       "\n",
       "    .dataframe thead th {\n",
       "        text-align: right;\n",
       "    }\n",
       "</style>\n",
       "<table border=\"1\" class=\"dataframe\">\n",
       "  <thead>\n",
       "    <tr style=\"text-align: right;\">\n",
       "      <th></th>\n",
       "      <th>Age</th>\n",
       "      <th>BusinessTravel</th>\n",
       "      <th>DailyRate</th>\n",
       "      <th>Department</th>\n",
       "      <th>DistanceFromHome</th>\n",
       "      <th>Education</th>\n",
       "      <th>EducationField</th>\n",
       "      <th>EmployeeNumber</th>\n",
       "      <th>EnvironmentSatisfaction</th>\n",
       "      <th>Gender</th>\n",
       "      <th>...</th>\n",
       "      <th>OverTime</th>\n",
       "      <th>PercentSalaryHike</th>\n",
       "      <th>PerformanceRating</th>\n",
       "      <th>RelationshipSatisfaction</th>\n",
       "      <th>StockOptionLevel</th>\n",
       "      <th>TrainingTimesLastYear</th>\n",
       "      <th>WorkLifeBalance</th>\n",
       "      <th>YearsAtCompany</th>\n",
       "      <th>YearsSinceLastPromotion</th>\n",
       "      <th>attrition</th>\n",
       "    </tr>\n",
       "  </thead>\n",
       "  <tbody>\n",
       "    <tr>\n",
       "      <th>0</th>\n",
       "      <td>41</td>\n",
       "      <td>2</td>\n",
       "      <td>1102</td>\n",
       "      <td>2</td>\n",
       "      <td>1</td>\n",
       "      <td>2</td>\n",
       "      <td>1</td>\n",
       "      <td>1</td>\n",
       "      <td>2</td>\n",
       "      <td>0</td>\n",
       "      <td>...</td>\n",
       "      <td>1</td>\n",
       "      <td>11</td>\n",
       "      <td>3</td>\n",
       "      <td>1</td>\n",
       "      <td>0</td>\n",
       "      <td>0</td>\n",
       "      <td>1</td>\n",
       "      <td>6</td>\n",
       "      <td>0</td>\n",
       "      <td>1</td>\n",
       "    </tr>\n",
       "    <tr>\n",
       "      <th>1</th>\n",
       "      <td>49</td>\n",
       "      <td>1</td>\n",
       "      <td>279</td>\n",
       "      <td>1</td>\n",
       "      <td>8</td>\n",
       "      <td>1</td>\n",
       "      <td>1</td>\n",
       "      <td>2</td>\n",
       "      <td>3</td>\n",
       "      <td>1</td>\n",
       "      <td>...</td>\n",
       "      <td>0</td>\n",
       "      <td>23</td>\n",
       "      <td>4</td>\n",
       "      <td>4</td>\n",
       "      <td>1</td>\n",
       "      <td>3</td>\n",
       "      <td>3</td>\n",
       "      <td>10</td>\n",
       "      <td>1</td>\n",
       "      <td>0</td>\n",
       "    </tr>\n",
       "    <tr>\n",
       "      <th>2</th>\n",
       "      <td>37</td>\n",
       "      <td>2</td>\n",
       "      <td>1373</td>\n",
       "      <td>1</td>\n",
       "      <td>2</td>\n",
       "      <td>2</td>\n",
       "      <td>4</td>\n",
       "      <td>4</td>\n",
       "      <td>4</td>\n",
       "      <td>1</td>\n",
       "      <td>...</td>\n",
       "      <td>1</td>\n",
       "      <td>15</td>\n",
       "      <td>3</td>\n",
       "      <td>2</td>\n",
       "      <td>0</td>\n",
       "      <td>3</td>\n",
       "      <td>3</td>\n",
       "      <td>0</td>\n",
       "      <td>0</td>\n",
       "      <td>1</td>\n",
       "    </tr>\n",
       "    <tr>\n",
       "      <th>3</th>\n",
       "      <td>33</td>\n",
       "      <td>1</td>\n",
       "      <td>1392</td>\n",
       "      <td>1</td>\n",
       "      <td>3</td>\n",
       "      <td>4</td>\n",
       "      <td>1</td>\n",
       "      <td>5</td>\n",
       "      <td>4</td>\n",
       "      <td>0</td>\n",
       "      <td>...</td>\n",
       "      <td>1</td>\n",
       "      <td>11</td>\n",
       "      <td>3</td>\n",
       "      <td>3</td>\n",
       "      <td>0</td>\n",
       "      <td>3</td>\n",
       "      <td>3</td>\n",
       "      <td>8</td>\n",
       "      <td>3</td>\n",
       "      <td>0</td>\n",
       "    </tr>\n",
       "    <tr>\n",
       "      <th>4</th>\n",
       "      <td>27</td>\n",
       "      <td>2</td>\n",
       "      <td>591</td>\n",
       "      <td>1</td>\n",
       "      <td>2</td>\n",
       "      <td>1</td>\n",
       "      <td>3</td>\n",
       "      <td>7</td>\n",
       "      <td>1</td>\n",
       "      <td>1</td>\n",
       "      <td>...</td>\n",
       "      <td>0</td>\n",
       "      <td>12</td>\n",
       "      <td>3</td>\n",
       "      <td>4</td>\n",
       "      <td>1</td>\n",
       "      <td>3</td>\n",
       "      <td>3</td>\n",
       "      <td>2</td>\n",
       "      <td>2</td>\n",
       "      <td>0</td>\n",
       "    </tr>\n",
       "    <tr>\n",
       "      <th>...</th>\n",
       "      <td>...</td>\n",
       "      <td>...</td>\n",
       "      <td>...</td>\n",
       "      <td>...</td>\n",
       "      <td>...</td>\n",
       "      <td>...</td>\n",
       "      <td>...</td>\n",
       "      <td>...</td>\n",
       "      <td>...</td>\n",
       "      <td>...</td>\n",
       "      <td>...</td>\n",
       "      <td>...</td>\n",
       "      <td>...</td>\n",
       "      <td>...</td>\n",
       "      <td>...</td>\n",
       "      <td>...</td>\n",
       "      <td>...</td>\n",
       "      <td>...</td>\n",
       "      <td>...</td>\n",
       "      <td>...</td>\n",
       "      <td>...</td>\n",
       "    </tr>\n",
       "    <tr>\n",
       "      <th>1465</th>\n",
       "      <td>36</td>\n",
       "      <td>1</td>\n",
       "      <td>884</td>\n",
       "      <td>1</td>\n",
       "      <td>23</td>\n",
       "      <td>2</td>\n",
       "      <td>3</td>\n",
       "      <td>2061</td>\n",
       "      <td>3</td>\n",
       "      <td>1</td>\n",
       "      <td>...</td>\n",
       "      <td>0</td>\n",
       "      <td>17</td>\n",
       "      <td>3</td>\n",
       "      <td>3</td>\n",
       "      <td>1</td>\n",
       "      <td>3</td>\n",
       "      <td>3</td>\n",
       "      <td>5</td>\n",
       "      <td>0</td>\n",
       "      <td>0</td>\n",
       "    </tr>\n",
       "    <tr>\n",
       "      <th>1466</th>\n",
       "      <td>39</td>\n",
       "      <td>2</td>\n",
       "      <td>613</td>\n",
       "      <td>1</td>\n",
       "      <td>6</td>\n",
       "      <td>1</td>\n",
       "      <td>3</td>\n",
       "      <td>2062</td>\n",
       "      <td>4</td>\n",
       "      <td>1</td>\n",
       "      <td>...</td>\n",
       "      <td>0</td>\n",
       "      <td>15</td>\n",
       "      <td>3</td>\n",
       "      <td>1</td>\n",
       "      <td>1</td>\n",
       "      <td>5</td>\n",
       "      <td>3</td>\n",
       "      <td>7</td>\n",
       "      <td>1</td>\n",
       "      <td>0</td>\n",
       "    </tr>\n",
       "    <tr>\n",
       "      <th>1467</th>\n",
       "      <td>27</td>\n",
       "      <td>2</td>\n",
       "      <td>155</td>\n",
       "      <td>1</td>\n",
       "      <td>4</td>\n",
       "      <td>3</td>\n",
       "      <td>1</td>\n",
       "      <td>2064</td>\n",
       "      <td>2</td>\n",
       "      <td>1</td>\n",
       "      <td>...</td>\n",
       "      <td>1</td>\n",
       "      <td>20</td>\n",
       "      <td>4</td>\n",
       "      <td>2</td>\n",
       "      <td>1</td>\n",
       "      <td>0</td>\n",
       "      <td>3</td>\n",
       "      <td>6</td>\n",
       "      <td>0</td>\n",
       "      <td>0</td>\n",
       "    </tr>\n",
       "    <tr>\n",
       "      <th>1468</th>\n",
       "      <td>49</td>\n",
       "      <td>1</td>\n",
       "      <td>1023</td>\n",
       "      <td>2</td>\n",
       "      <td>2</td>\n",
       "      <td>3</td>\n",
       "      <td>3</td>\n",
       "      <td>2065</td>\n",
       "      <td>4</td>\n",
       "      <td>1</td>\n",
       "      <td>...</td>\n",
       "      <td>0</td>\n",
       "      <td>14</td>\n",
       "      <td>3</td>\n",
       "      <td>4</td>\n",
       "      <td>0</td>\n",
       "      <td>3</td>\n",
       "      <td>2</td>\n",
       "      <td>9</td>\n",
       "      <td>0</td>\n",
       "      <td>0</td>\n",
       "    </tr>\n",
       "    <tr>\n",
       "      <th>1469</th>\n",
       "      <td>34</td>\n",
       "      <td>2</td>\n",
       "      <td>628</td>\n",
       "      <td>1</td>\n",
       "      <td>8</td>\n",
       "      <td>3</td>\n",
       "      <td>3</td>\n",
       "      <td>2068</td>\n",
       "      <td>2</td>\n",
       "      <td>1</td>\n",
       "      <td>...</td>\n",
       "      <td>0</td>\n",
       "      <td>12</td>\n",
       "      <td>3</td>\n",
       "      <td>1</td>\n",
       "      <td>0</td>\n",
       "      <td>3</td>\n",
       "      <td>4</td>\n",
       "      <td>4</td>\n",
       "      <td>1</td>\n",
       "      <td>0</td>\n",
       "    </tr>\n",
       "  </tbody>\n",
       "</table>\n",
       "<p>1470 rows × 28 columns</p>\n",
       "</div>"
      ],
      "text/plain": [
       "      Age  BusinessTravel  DailyRate  Department  DistanceFromHome  Education  \\\n",
       "0      41               2       1102           2                 1          2   \n",
       "1      49               1        279           1                 8          1   \n",
       "2      37               2       1373           1                 2          2   \n",
       "3      33               1       1392           1                 3          4   \n",
       "4      27               2        591           1                 2          1   \n",
       "...   ...             ...        ...         ...               ...        ...   \n",
       "1465   36               1        884           1                23          2   \n",
       "1466   39               2        613           1                 6          1   \n",
       "1467   27               2        155           1                 4          3   \n",
       "1468   49               1       1023           2                 2          3   \n",
       "1469   34               2        628           1                 8          3   \n",
       "\n",
       "      EducationField  EmployeeNumber  EnvironmentSatisfaction  Gender  ...  \\\n",
       "0                  1               1                        2       0  ...   \n",
       "1                  1               2                        3       1  ...   \n",
       "2                  4               4                        4       1  ...   \n",
       "3                  1               5                        4       0  ...   \n",
       "4                  3               7                        1       1  ...   \n",
       "...              ...             ...                      ...     ...  ...   \n",
       "1465               3            2061                        3       1  ...   \n",
       "1466               3            2062                        4       1  ...   \n",
       "1467               1            2064                        2       1  ...   \n",
       "1468               3            2065                        4       1  ...   \n",
       "1469               3            2068                        2       1  ...   \n",
       "\n",
       "      OverTime  PercentSalaryHike  PerformanceRating  \\\n",
       "0            1                 11                  3   \n",
       "1            0                 23                  4   \n",
       "2            1                 15                  3   \n",
       "3            1                 11                  3   \n",
       "4            0                 12                  3   \n",
       "...        ...                ...                ...   \n",
       "1465         0                 17                  3   \n",
       "1466         0                 15                  3   \n",
       "1467         1                 20                  4   \n",
       "1468         0                 14                  3   \n",
       "1469         0                 12                  3   \n",
       "\n",
       "      RelationshipSatisfaction  StockOptionLevel  TrainingTimesLastYear  \\\n",
       "0                            1                 0                      0   \n",
       "1                            4                 1                      3   \n",
       "2                            2                 0                      3   \n",
       "3                            3                 0                      3   \n",
       "4                            4                 1                      3   \n",
       "...                        ...               ...                    ...   \n",
       "1465                         3                 1                      3   \n",
       "1466                         1                 1                      5   \n",
       "1467                         2                 1                      0   \n",
       "1468                         4                 0                      3   \n",
       "1469                         1                 0                      3   \n",
       "\n",
       "      WorkLifeBalance  YearsAtCompany  YearsSinceLastPromotion  attrition  \n",
       "0                   1               6                        0          1  \n",
       "1                   3              10                        1          0  \n",
       "2                   3               0                        0          1  \n",
       "3                   3               8                        3          0  \n",
       "4                   3               2                        2          0  \n",
       "...               ...             ...                      ...        ...  \n",
       "1465                3               5                        0          0  \n",
       "1466                3               7                        1          0  \n",
       "1467                3               6                        0          0  \n",
       "1468                2               9                        0          0  \n",
       "1469                4               4                        1          0  \n",
       "\n",
       "[1470 rows x 28 columns]"
      ]
     },
     "execution_count": 8,
     "metadata": {},
     "output_type": "execute_result"
    }
   ],
   "source": [
    "df[\"attrition\"] = df[\"attrition\"].astype('category').cat.codes\n",
    "df[\"BusinessTravel\"] = df[\"BusinessTravel\"].astype('category').cat.codes\n",
    "df[\"Department\"] = df[\"Department\"].astype('category').cat.codes\n",
    "df[\"EducationField\"] = df[\"EducationField\"].astype('category').cat.codes\n",
    "df[\"Gender\"] = df[\"Gender\"].astype('category').cat.codes\n",
    "df[\"JobRole\"] = df[\"JobRole\"].astype('category').cat.codes\n",
    "df[\"MaritalStatus\"] = df[\"MaritalStatus\"].astype('category').cat.codes\n",
    "df[\"OverTime\"] = df[\"OverTime\"].astype('category').cat.codes\n",
    "df"
   ]
  },
  {
   "cell_type": "code",
   "execution_count": 9,
   "metadata": {},
   "outputs": [
    {
     "data": {
      "text/plain": [
       "((1470, 27), (1470,))"
      ]
     },
     "execution_count": 9,
     "metadata": {},
     "output_type": "execute_result"
    }
   ],
   "source": [
    "x = np.array(df.iloc[:, :-1])\n",
    "y = np.array(df.iloc[:, -1])\n",
    "x.shape, y.shape"
   ]
  },
  {
   "cell_type": "code",
   "execution_count": 15,
   "metadata": {},
   "outputs": [
    {
     "data": {
      "text/plain": [
       "(1470, 27)"
      ]
     },
     "execution_count": 15,
     "metadata": {},
     "output_type": "execute_result"
    }
   ],
   "source": [
    "scaler = StandardScaler()\n",
    "x_scaled = scaler.fit_transform(x)\n",
    "x_scaled.shape"
   ]
  },
  {
   "cell_type": "markdown",
   "metadata": {},
   "source": [
    "# Logistic Regression"
   ]
  },
  {
   "cell_type": "markdown",
   "metadata": {},
   "source": [
    "### without SMOTE"
   ]
  },
  {
   "cell_type": "code",
   "execution_count": 61,
   "metadata": {},
   "outputs": [
    {
     "name": "stderr",
     "output_type": "stream",
     "text": [
      "C:\\Users\\Nagesh\\anaconda3\\envs\\tf\\lib\\site-packages\\sklearn\\model_selection\\_split.py:297: FutureWarning: Setting a random_state has no effect since shuffle is False. This will raise an error in 0.24. You should leave random_state to its default (None), or set shuffle=True.\n",
      "  FutureWarning\n"
     ]
    }
   ],
   "source": [
    "precision_recall_fscore_supports = []\n",
    "model = LogisticRegression()\n",
    "cv = KFold(n_splits = 10, random_state = 0)\n",
    "\n",
    "for train_index, test_index in cv.split(x_scaled):\n",
    "    #print(train_index, test_index)\n",
    "    x_train, x_test = x_scaled[train_index], x_scaled[test_index]\n",
    "    y_train, y_test = y[train_index], y[test_index]\n",
    "    model.fit(x_train, y_train)\n",
    "    precision_recall_fscore_supports.append(precision_recall_fscore_support(y_test, model.predict(x_test), average = \"binary\"))"
   ]
  },
  {
   "cell_type": "code",
   "execution_count": 62,
   "metadata": {},
   "outputs": [
    {
     "name": "stdout",
     "output_type": "stream",
     "text": [
      "41.572462379664174\n"
     ]
    }
   ],
   "source": [
    "f_scores = []\n",
    "for prfs in precision_recall_fscore_supports:\n",
    "    f_scores.append(prfs[2])\n",
    "print(np.mean(np.array(f_scores)) * 100)"
   ]
  },
  {
   "cell_type": "markdown",
   "metadata": {},
   "source": [
    "### with SMOTE"
   ]
  },
  {
   "cell_type": "code",
   "execution_count": 59,
   "metadata": {},
   "outputs": [
    {
     "name": "stderr",
     "output_type": "stream",
     "text": [
      "C:\\Users\\Nagesh\\anaconda3\\envs\\tf\\lib\\site-packages\\sklearn\\model_selection\\_split.py:297: FutureWarning: Setting a random_state has no effect since shuffle is False. This will raise an error in 0.24. You should leave random_state to its default (None), or set shuffle=True.\n",
      "  FutureWarning\n"
     ]
    }
   ],
   "source": [
    "precision_recall_fscore_supports = []\n",
    "model = LogisticRegression()\n",
    "cv = KFold(n_splits = 10, random_state = 0)\n",
    "smote = SMOTE()\n",
    "\n",
    "for train_index, test_index in cv.split(x_scaled):\n",
    "    #print(train_index, test_index)\n",
    "    x_train, x_test = x_scaled[train_index], x_scaled[test_index]\n",
    "    y_train, y_test = y[train_index], y[test_index]\n",
    "    x_smote, y_smote = smote.fit_resample(x_train, y_train)\n",
    "    model.fit(x_smote, y_smote)\n",
    "    precision_recall_fscore_supports.append(precision_recall_fscore_support(y_test, model.predict(x_test), average = \"binary\"))"
   ]
  },
  {
   "cell_type": "code",
   "execution_count": 60,
   "metadata": {},
   "outputs": [
    {
     "name": "stdout",
     "output_type": "stream",
     "text": [
      "(0.36363636363636365, 0.7692307692307693, 0.4938271604938272, None)\n",
      "(0.425, 0.8095238095238095, 0.5573770491803278, None)\n",
      "(0.391304347826087, 0.8181818181818182, 0.5294117647058824, None)\n",
      "(0.3333333333333333, 0.7142857142857143, 0.4545454545454545, None)\n",
      "(0.4166666666666667, 0.6896551724137931, 0.5194805194805195, None)\n",
      "(0.4318181818181818, 0.6333333333333333, 0.5135135135135135, None)\n",
      "(0.3392857142857143, 0.8260869565217391, 0.4810126582278481, None)\n",
      "(0.2916666666666667, 0.6363636363636364, 0.4, None)\n",
      "(0.3333333333333333, 0.5833333333333334, 0.4242424242424242, None)\n",
      "(0.3404255319148936, 0.8421052631578947, 0.48484848484848486, None)\n",
      "48.58259029238282\n"
     ]
    }
   ],
   "source": [
    "f_scores = []\n",
    "for prfs in precision_recall_fscore_supports:\n",
    "    print(prfs)\n",
    "    f_scores.append(prfs[2])\n",
    "print(np.mean(np.array(f_scores)) * 100)"
   ]
  },
  {
   "cell_type": "markdown",
   "metadata": {},
   "source": [
    "# SVM "
   ]
  },
  {
   "cell_type": "markdown",
   "metadata": {},
   "source": [
    "### without SMOTE"
   ]
  },
  {
   "cell_type": "code",
   "execution_count": 66,
   "metadata": {},
   "outputs": [
    {
     "name": "stderr",
     "output_type": "stream",
     "text": [
      "C:\\Users\\Nagesh\\anaconda3\\envs\\tf\\lib\\site-packages\\sklearn\\model_selection\\_split.py:297: FutureWarning: Setting a random_state has no effect since shuffle is False. This will raise an error in 0.24. You should leave random_state to its default (None), or set shuffle=True.\n",
      "  FutureWarning\n"
     ]
    }
   ],
   "source": [
    "precision_recall_fscore_supports = []\n",
    "model = SVC(kernel = \"rbf\", class_weight = \"balanced\", probability = True)\n",
    "cv = KFold(n_splits = 10, random_state = 0)\n",
    "\n",
    "for train_index, test_index in cv.split(x_scaled):\n",
    "    #print(train_index, test_index)\n",
    "    x_train, x_test = x_scaled[train_index], x_scaled[test_index]\n",
    "    y_train, y_test = y[train_index], y[test_index]\n",
    "    model.fit(x_train, y_train)\n",
    "    precision_recall_fscore_supports.append(precision_recall_fscore_support(y_test, model.predict(x_test), average = \"binary\"))"
   ]
  },
  {
   "cell_type": "code",
   "execution_count": 67,
   "metadata": {},
   "outputs": [
    {
     "name": "stdout",
     "output_type": "stream",
     "text": [
      "(0.5769230769230769, 0.5769230769230769, 0.5769230769230769, None)\n",
      "(0.5185185185185185, 0.6666666666666666, 0.5833333333333334, None)\n",
      "(0.43333333333333335, 0.5909090909090909, 0.5, None)\n",
      "(0.3611111111111111, 0.6190476190476191, 0.45614035087719296, None)\n",
      "(0.4523809523809524, 0.6551724137931034, 0.5352112676056338, None)\n",
      "(0.5416666666666666, 0.43333333333333335, 0.4814814814814815, None)\n",
      "(0.40625, 0.5652173913043478, 0.4727272727272727, None)\n",
      "(0.4666666666666667, 0.6363636363636364, 0.5384615384615385, None)\n",
      "(0.3611111111111111, 0.5416666666666666, 0.43333333333333335, None)\n",
      "(0.32432432432432434, 0.631578947368421, 0.42857142857142855, None)\n",
      "50.06183083314293\n"
     ]
    }
   ],
   "source": [
    "f_scores = []\n",
    "for prfs in precision_recall_fscore_supports:\n",
    "    print(prfs)\n",
    "    f_scores.append(prfs[2])\n",
    "print(np.mean(np.array(f_scores)) * 100)"
   ]
  },
  {
   "cell_type": "markdown",
   "metadata": {},
   "source": [
    "### with SMOTE"
   ]
  },
  {
   "cell_type": "code",
   "execution_count": 70,
   "metadata": {},
   "outputs": [
    {
     "name": "stderr",
     "output_type": "stream",
     "text": [
      "C:\\Users\\Nagesh\\anaconda3\\envs\\tf\\lib\\site-packages\\sklearn\\model_selection\\_split.py:297: FutureWarning: Setting a random_state has no effect since shuffle is False. This will raise an error in 0.24. You should leave random_state to its default (None), or set shuffle=True.\n",
      "  FutureWarning\n"
     ]
    }
   ],
   "source": [
    "precision_recall_fscore_supports = []\n",
    "model = SVC(kernel = \"rbf\")\n",
    "cv = KFold(n_splits = 10, random_state = 0)\n",
    "smote = SMOTE()\n",
    "\n",
    "for train_index, test_index in cv.split(x_scaled):\n",
    "    #print(train_index, test_index)\n",
    "    x_train, x_test = x_scaled[train_index], x_scaled[test_index]\n",
    "    y_train, y_test = y[train_index], y[test_index]\n",
    "    x_smote, y_smote = smote.fit_resample(x_train, y_train)\n",
    "    model.fit(x_smote, y_smote)\n",
    "    precision_recall_fscore_supports.append(precision_recall_fscore_support(y_test, model.predict(x_test), average = \"binary\"))"
   ]
  },
  {
   "cell_type": "code",
   "execution_count": 71,
   "metadata": {},
   "outputs": [
    {
     "name": "stdout",
     "output_type": "stream",
     "text": [
      "(0.5238095238095238, 0.4230769230769231, 0.4680851063829788, None)\n",
      "(0.5625, 0.42857142857142855, 0.4864864864864864, None)\n",
      "(0.3684210526315789, 0.3181818181818182, 0.3414634146341463, None)\n",
      "(0.4444444444444444, 0.5714285714285714, 0.5, None)\n",
      "(0.45454545454545453, 0.5172413793103449, 0.4838709677419355, None)\n",
      "(0.35294117647058826, 0.2, 0.25531914893617025, None)\n",
      "(0.36, 0.391304347826087, 0.37499999999999994, None)\n",
      "(0.45454545454545453, 0.45454545454545453, 0.45454545454545453, None)\n",
      "(0.35, 0.2916666666666667, 0.31818181818181823, None)\n",
      "(0.3684210526315789, 0.3684210526315789, 0.3684210526315789, None)\n",
      "40.51373449540569\n"
     ]
    }
   ],
   "source": [
    "f_scores = []\n",
    "for prfs in precision_recall_fscore_supports:\n",
    "    print(prfs)\n",
    "    f_scores.append(prfs[2])\n",
    "print(np.mean(np.array(f_scores)) * 100)"
   ]
  },
  {
   "cell_type": "markdown",
   "metadata": {},
   "source": [
    "# Decision Tree"
   ]
  },
  {
   "cell_type": "markdown",
   "metadata": {},
   "source": [
    "### without SMOTE"
   ]
  },
  {
   "cell_type": "code",
   "execution_count": 73,
   "metadata": {},
   "outputs": [
    {
     "data": {
      "text/plain": [
       "((1029, 27), (441, 27))"
      ]
     },
     "execution_count": 73,
     "metadata": {},
     "output_type": "execute_result"
    }
   ],
   "source": [
    "x_train, x_test, y_train, y_test = train_test_split(x_scaled, y, test_size = 0.3, random_state = 0)\n",
    "x_train.shape, x_test.shape"
   ]
  },
  {
   "cell_type": "code",
   "execution_count": 77,
   "metadata": {},
   "outputs": [
    {
     "name": "stdout",
     "output_type": "stream",
     "text": [
      "best parameters: DecisionTreeClassifier(class_weight='balanced', max_depth=16, random_state=0)\n",
      "best score: 78.81458678664457\n"
     ]
    }
   ],
   "source": [
    "# pre prunning \n",
    "model = DecisionTreeClassifier(random_state = 0)\n",
    "param_grid = {\"max_depth\" : [8, 12, 16, 20]}\n",
    "\n",
    "gs = GridSearchCV(estimator = model, param_grid = param_grid)\n",
    "gs.fit(x_train, y_train)\n",
    "print(\"best parameters:\", gs.best_estimator_)\n",
    "print(\"best score:\", gs.best_score_*100)"
   ]
  },
  {
   "cell_type": "code",
   "execution_count": 78,
   "metadata": {},
   "outputs": [
    {
     "name": "stderr",
     "output_type": "stream",
     "text": [
      "C:\\Users\\Nagesh\\anaconda3\\envs\\tf\\lib\\site-packages\\sklearn\\model_selection\\_split.py:297: FutureWarning: Setting a random_state has no effect since shuffle is False. This will raise an error in 0.24. You should leave random_state to its default (None), or set shuffle=True.\n",
      "  FutureWarning\n"
     ]
    }
   ],
   "source": [
    "precision_recall_fscore_supports = []\n",
    "model = DecisionTreeClassifier(max_depth = 8, class_weight = \"balanced\")\n",
    "cv = KFold(n_splits = 10, random_state = 0)\n",
    "\n",
    "for train_index, test_index in cv.split(x_scaled):\n",
    "    #print(train_index, test_index)\n",
    "    x_train, x_test = x_scaled[train_index], x_scaled[test_index]\n",
    "    y_train, y_test = y[train_index], y[test_index]\n",
    "    model.fit(x_train, y_train)\n",
    "    precision_recall_fscore_supports.append(precision_recall_fscore_support(y_test, model.predict(x_test), average = \"binary\"))"
   ]
  },
  {
   "cell_type": "code",
   "execution_count": 79,
   "metadata": {},
   "outputs": [
    {
     "name": "stdout",
     "output_type": "stream",
     "text": [
      "(0.2857142857142857, 0.23076923076923078, 0.25531914893617025, None)\n",
      "(0.35714285714285715, 0.47619047619047616, 0.40816326530612246, None)\n",
      "(0.36666666666666664, 0.5, 0.423076923076923, None)\n",
      "(0.2826086956521739, 0.6190476190476191, 0.3880597014925373, None)\n",
      "(0.34146341463414637, 0.4827586206896552, 0.4000000000000001, None)\n",
      "(0.25, 0.23333333333333334, 0.2413793103448276, None)\n",
      "(0.3103448275862069, 0.391304347826087, 0.34615384615384615, None)\n",
      "(0.25, 0.36363636363636365, 0.2962962962962963, None)\n",
      "(0.42424242424242425, 0.5833333333333334, 0.4912280701754386, None)\n",
      "(0.3333333333333333, 0.3684210526315789, 0.35, None)\n",
      "35.996765617821616\n"
     ]
    }
   ],
   "source": [
    "f_scores = []\n",
    "for prfs in precision_recall_fscore_supports:\n",
    "    print(prfs)\n",
    "    f_scores.append(prfs[2])\n",
    "print(np.mean(np.array(f_scores)) * 100)"
   ]
  },
  {
   "cell_type": "markdown",
   "metadata": {},
   "source": [
    "### with SMOTE"
   ]
  },
  {
   "cell_type": "code",
   "execution_count": 80,
   "metadata": {},
   "outputs": [
    {
     "name": "stderr",
     "output_type": "stream",
     "text": [
      "C:\\Users\\Nagesh\\anaconda3\\envs\\tf\\lib\\site-packages\\sklearn\\model_selection\\_split.py:297: FutureWarning: Setting a random_state has no effect since shuffle is False. This will raise an error in 0.24. You should leave random_state to its default (None), or set shuffle=True.\n",
      "  FutureWarning\n"
     ]
    }
   ],
   "source": [
    "precision_recall_fscore_supports = []\n",
    "model = DecisionTreeClassifier(max_depth = 8, class_weight = \"balanced\")\n",
    "cv = KFold(n_splits = 10, random_state = 0)\n",
    "\n",
    "for train_index, test_index in cv.split(x_scaled):\n",
    "    #print(train_index, test_index)\n",
    "    x_train, x_test = x_scaled[train_index], x_scaled[test_index]\n",
    "    y_train, y_test = y[train_index], y[test_index]\n",
    "    x_smote, y_smote = smote.fit_resample(x_train, y_train)\n",
    "    model.fit(x_smote, y_smote)\n",
    "    precision_recall_fscore_supports.append(precision_recall_fscore_support(y_test, model.predict(x_test), average = \"binary\"))"
   ]
  },
  {
   "cell_type": "code",
   "execution_count": 81,
   "metadata": {},
   "outputs": [
    {
     "name": "stdout",
     "output_type": "stream",
     "text": [
      "(0.39285714285714285, 0.4230769230769231, 0.4074074074074074, None)\n",
      "(0.4166666666666667, 0.47619047619047616, 0.4444444444444445, None)\n",
      "(0.3181818181818182, 0.3181818181818182, 0.3181818181818182, None)\n",
      "(0.3, 0.42857142857142855, 0.3529411764705882, None)\n",
      "(0.4411764705882353, 0.5172413793103449, 0.47619047619047616, None)\n",
      "(0.391304347826087, 0.3, 0.33962264150943394, None)\n",
      "(0.39285714285714285, 0.4782608695652174, 0.4313725490196078, None)\n",
      "(0.3333333333333333, 0.4090909090909091, 0.36734693877551017, None)\n",
      "(0.4230769230769231, 0.4583333333333333, 0.43999999999999995, None)\n",
      "(0.20588235294117646, 0.3684210526315789, 0.2641509433962264, None)\n",
      "38.416583953955126\n"
     ]
    }
   ],
   "source": [
    "f_scores = []\n",
    "for prfs in precision_recall_fscore_supports:\n",
    "    print(prfs)\n",
    "    f_scores.append(prfs[2])\n",
    "print(np.mean(np.array(f_scores)) * 100)"
   ]
  },
  {
   "cell_type": "markdown",
   "metadata": {},
   "source": [
    "# Random Forest"
   ]
  },
  {
   "cell_type": "markdown",
   "metadata": {},
   "source": [
    "### without SMOTE"
   ]
  },
  {
   "cell_type": "code",
   "execution_count": 82,
   "metadata": {},
   "outputs": [
    {
     "data": {
      "text/plain": [
       "((1029, 27), (441, 27))"
      ]
     },
     "execution_count": 82,
     "metadata": {},
     "output_type": "execute_result"
    }
   ],
   "source": [
    "x_train, x_test, y_train, y_test = train_test_split(x_scaled, y, test_size = 0.3, random_state = 0)\n",
    "x_train.shape, x_test.shape"
   ]
  },
  {
   "cell_type": "code",
   "execution_count": 83,
   "metadata": {},
   "outputs": [
    {
     "name": "stdout",
     "output_type": "stream",
     "text": [
      "best parameters: RandomForestClassifier(class_weight='balanced', max_depth=8)\n",
      "best score: 85.7148946246744\n"
     ]
    }
   ],
   "source": [
    "# pre prunning \n",
    "model = RandomForestClassifier()\n",
    "param_grid = {\"max_depth\" : [8, 12, 16, 20],\n",
    "             \"class_weight\" : [\"balanced\", \"balanced_subsample\"]}\n",
    "\n",
    "gs = GridSearchCV(estimator = model, param_grid = param_grid)\n",
    "gs.fit(x_train, y_train)\n",
    "print(\"best parameters:\", gs.best_estimator_)\n",
    "print(\"best score:\", gs.best_score_*100)"
   ]
  },
  {
   "cell_type": "code",
   "execution_count": 84,
   "metadata": {},
   "outputs": [
    {
     "name": "stderr",
     "output_type": "stream",
     "text": [
      "C:\\Users\\Nagesh\\anaconda3\\envs\\tf\\lib\\site-packages\\sklearn\\model_selection\\_split.py:297: FutureWarning: Setting a random_state has no effect since shuffle is False. This will raise an error in 0.24. You should leave random_state to its default (None), or set shuffle=True.\n",
      "  FutureWarning\n"
     ]
    }
   ],
   "source": [
    "precision_recall_fscore_supports = []\n",
    "model = RandomForestClassifier(max_depth = 8, class_weight = \"balanced\")\n",
    "cv = KFold(n_splits = 10, random_state = 0)\n",
    "\n",
    "for train_index, test_index in cv.split(x_scaled):\n",
    "    #print(train_index, test_index)\n",
    "    x_train, x_test = x_scaled[train_index], x_scaled[test_index]\n",
    "    y_train, y_test = y[train_index], y[test_index]\n",
    "    model.fit(x_train, y_train)\n",
    "    precision_recall_fscore_supports.append(precision_recall_fscore_support(y_test, model.predict(x_test), average = \"binary\"))"
   ]
  },
  {
   "cell_type": "code",
   "execution_count": 85,
   "metadata": {},
   "outputs": [
    {
     "name": "stdout",
     "output_type": "stream",
     "text": [
      "(0.625, 0.19230769230769232, 0.29411764705882354, None)\n",
      "(0.8, 0.19047619047619047, 0.3076923076923077, None)\n",
      "(0.6153846153846154, 0.36363636363636365, 0.4571428571428572, None)\n",
      "(0.625, 0.23809523809523808, 0.3448275862068965, None)\n",
      "(0.7692307692307693, 0.3448275862068966, 0.47619047619047616, None)\n",
      "(0.5, 0.16666666666666666, 0.25, None)\n",
      "(0.6923076923076923, 0.391304347826087, 0.5, None)\n",
      "(0.7777777777777778, 0.3181818181818182, 0.45161290322580644, None)\n",
      "(0.75, 0.125, 0.21428571428571427, None)\n",
      "(0.5, 0.2631578947368421, 0.3448275862068966, None)\n",
      "36.40697078009779\n"
     ]
    }
   ],
   "source": [
    "f_scores = []\n",
    "for prfs in precision_recall_fscore_supports:\n",
    "    print(prfs)\n",
    "    f_scores.append(prfs[2])\n",
    "print(np.mean(np.array(f_scores)) * 100)"
   ]
  },
  {
   "cell_type": "markdown",
   "metadata": {},
   "source": [
    "### with SMOTE"
   ]
  },
  {
   "cell_type": "code",
   "execution_count": 86,
   "metadata": {},
   "outputs": [
    {
     "name": "stderr",
     "output_type": "stream",
     "text": [
      "C:\\Users\\Nagesh\\anaconda3\\envs\\tf\\lib\\site-packages\\sklearn\\model_selection\\_split.py:297: FutureWarning: Setting a random_state has no effect since shuffle is False. This will raise an error in 0.24. You should leave random_state to its default (None), or set shuffle=True.\n",
      "  FutureWarning\n"
     ]
    }
   ],
   "source": [
    "precision_recall_fscore_supports = []\n",
    "model = RandomForestClassifier(max_depth = 8, class_weight = \"balanced\")\n",
    "cv = KFold(n_splits = 10, random_state = 0)\n",
    "\n",
    "for train_index, test_index in cv.split(x_scaled):\n",
    "    #print(train_index, test_index)\n",
    "    x_train, x_test = x_scaled[train_index], x_scaled[test_index]\n",
    "    y_train, y_test = y[train_index], y[test_index]\n",
    "    x_smote, y_smote = smote.fit_resample(x_train, y_train)\n",
    "    model.fit(x_smote, y_smote)\n",
    "    precision_recall_fscore_supports.append(precision_recall_fscore_support(y_test, model.predict(x_test), average = \"binary\"))"
   ]
  },
  {
   "cell_type": "code",
   "execution_count": 87,
   "metadata": {},
   "outputs": [
    {
     "name": "stdout",
     "output_type": "stream",
     "text": [
      "(0.9166666666666666, 0.4230769230769231, 0.5789473684210527, None)\n",
      "(0.5714285714285714, 0.38095238095238093, 0.4571428571428571, None)\n",
      "(0.5, 0.3181818181818182, 0.3888888888888889, None)\n",
      "(0.8333333333333334, 0.47619047619047616, 0.6060606060606061, None)\n",
      "(0.5789473684210527, 0.3793103448275862, 0.45833333333333337, None)\n",
      "(0.45454545454545453, 0.16666666666666666, 0.2439024390243902, None)\n",
      "(0.5217391304347826, 0.5217391304347826, 0.5217391304347826, None)\n",
      "(0.5333333333333333, 0.36363636363636365, 0.43243243243243246, None)\n",
      "(0.5333333333333333, 0.3333333333333333, 0.4102564102564102, None)\n",
      "(0.5, 0.42105263157894735, 0.45714285714285713, None)\n",
      "45.54846323137611\n"
     ]
    }
   ],
   "source": [
    "f_scores = []\n",
    "for prfs in precision_recall_fscore_supports:\n",
    "    print(prfs)\n",
    "    f_scores.append(prfs[2])\n",
    "print(np.mean(np.array(f_scores)) * 100)"
   ]
  },
  {
   "cell_type": "markdown",
   "metadata": {},
   "source": [
    "# XGBoost"
   ]
  },
  {
   "cell_type": "markdown",
   "metadata": {},
   "source": [
    "### without SMOTE"
   ]
  },
  {
   "cell_type": "code",
   "execution_count": 89,
   "metadata": {},
   "outputs": [
    {
     "name": "stderr",
     "output_type": "stream",
     "text": [
      "C:\\Users\\Nagesh\\anaconda3\\envs\\tf\\lib\\site-packages\\sklearn\\model_selection\\_split.py:297: FutureWarning: Setting a random_state has no effect since shuffle is False. This will raise an error in 0.24. You should leave random_state to its default (None), or set shuffle=True.\n",
      "  FutureWarning\n"
     ]
    }
   ],
   "source": [
    "precision_recall_fscore_supports = []\n",
    "model = XGBClassifier(n_estimators = 100, max_depth = 8)\n",
    "cv = KFold(n_splits = 10, random_state = 0)\n",
    "\n",
    "for train_index, test_index in cv.split(x_scaled):\n",
    "    #print(train_index, test_index)\n",
    "    x_train, x_test = x_scaled[train_index], x_scaled[test_index]\n",
    "    y_train, y_test = y[train_index], y[test_index]\n",
    "    model.fit(x_train, y_train)\n",
    "    precision_recall_fscore_supports.append(precision_recall_fscore_support(y_test, model.predict(x_test), average = \"binary\"))"
   ]
  },
  {
   "cell_type": "code",
   "execution_count": 90,
   "metadata": {},
   "outputs": [
    {
     "name": "stdout",
     "output_type": "stream",
     "text": [
      "(0.6666666666666666, 0.23076923076923078, 0.3428571428571429, None)\n",
      "(0.75, 0.14285714285714285, 0.24, None)\n",
      "(0.6923076923076923, 0.4090909090909091, 0.5142857142857142, None)\n",
      "(0.5555555555555556, 0.23809523809523808, 0.33333333333333326, None)\n",
      "(0.6470588235294118, 0.3793103448275862, 0.4782608695652174, None)\n",
      "(0.4444444444444444, 0.13333333333333333, 0.20512820512820512, None)\n",
      "(0.6153846153846154, 0.34782608695652173, 0.4444444444444444, None)\n",
      "(0.6666666666666666, 0.2727272727272727, 0.3870967741935484, None)\n",
      "(0.6666666666666666, 0.25, 0.36363636363636365, None)\n",
      "(0.6363636363636364, 0.3684210526315789, 0.4666666666666667, None)\n",
      "37.75709514110636\n"
     ]
    }
   ],
   "source": [
    "f_scores = []\n",
    "for prfs in precision_recall_fscore_supports:\n",
    "    print(prfs)\n",
    "    f_scores.append(prfs[2])\n",
    "print(np.mean(np.array(f_scores)) * 100)"
   ]
  },
  {
   "cell_type": "markdown",
   "metadata": {},
   "source": [
    "### with SMOTE"
   ]
  },
  {
   "cell_type": "code",
   "execution_count": 93,
   "metadata": {},
   "outputs": [
    {
     "name": "stderr",
     "output_type": "stream",
     "text": [
      "C:\\Users\\Nagesh\\anaconda3\\envs\\tf\\lib\\site-packages\\sklearn\\model_selection\\_split.py:297: FutureWarning: Setting a random_state has no effect since shuffle is False. This will raise an error in 0.24. You should leave random_state to its default (None), or set shuffle=True.\n",
      "  FutureWarning\n"
     ]
    }
   ],
   "source": [
    "precision_recall_fscore_supports = []\n",
    "model = XGBClassifier(n_estimators = 100, max_depth = 8)\n",
    "cv = KFold(n_splits = 10, random_state = 0)\n",
    "\n",
    "for train_index, test_index in cv.split(x_scaled):\n",
    "    #print(train_index, test_index)\n",
    "    x_train, x_test = x_scaled[train_index], x_scaled[test_index]\n",
    "    y_train, y_test = y[train_index], y[test_index]\n",
    "    x_smote, y_smote = smote.fit_resample(x_train, y_train)\n",
    "    model.fit(x_smote, y_smote)\n",
    "    precision_recall_fscore_supports.append(precision_recall_fscore_support(y_test, model.predict(x_test), average = \"binary\"))"
   ]
  },
  {
   "cell_type": "code",
   "execution_count": 94,
   "metadata": {},
   "outputs": [
    {
     "name": "stdout",
     "output_type": "stream",
     "text": [
      "(0.6666666666666666, 0.3076923076923077, 0.42105263157894735, None)\n",
      "(0.6666666666666666, 0.38095238095238093, 0.4848484848484849, None)\n",
      "(0.7142857142857143, 0.45454545454545453, 0.5555555555555556, None)\n",
      "(0.6363636363636364, 0.3333333333333333, 0.43749999999999994, None)\n",
      "(0.6842105263157895, 0.4482758620689655, 0.5416666666666666, None)\n",
      "(0.5454545454545454, 0.2, 0.29268292682926833, None)\n",
      "(0.4090909090909091, 0.391304347826087, 0.4, None)\n",
      "(0.5333333333333333, 0.36363636363636365, 0.43243243243243246, None)\n",
      "(0.6666666666666666, 0.25, 0.36363636363636365, None)\n",
      "(0.6, 0.47368421052631576, 0.5294117647058824, None)\n",
      "44.58786826253601\n"
     ]
    }
   ],
   "source": [
    "f_scores = []\n",
    "for prfs in precision_recall_fscore_supports:\n",
    "    print(prfs)\n",
    "    f_scores.append(prfs[2])\n",
    "print(np.mean(np.array(f_scores)) * 100)"
   ]
  },
  {
   "cell_type": "code",
   "execution_count": null,
   "metadata": {},
   "outputs": [],
   "source": []
  }
 ],
 "metadata": {
  "kernelspec": {
   "display_name": "Python 3",
   "language": "python",
   "name": "python3"
  },
  "language_info": {
   "codemirror_mode": {
    "name": "ipython",
    "version": 3
   },
   "file_extension": ".py",
   "mimetype": "text/x-python",
   "name": "python",
   "nbconvert_exporter": "python",
   "pygments_lexer": "ipython3",
   "version": "3.7.9"
  }
 },
 "nbformat": 4,
 "nbformat_minor": 4
}
